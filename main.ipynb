{
 "cells": [
  {
   "cell_type": "code",
   "execution_count": 1,
   "metadata": {},
   "outputs": [],
   "source": [
    "import librosa \n",
    "import librosa.display\n",
    "import IPython.display as ipd\n",
    "import matplotlib.pyplot as plt\n",
    "import numpy as np\n",
    "import scipy as sp\n",
    "import os\n",
    "import math\n",
    "import pathlib\n",
    "import seaborn as sns\n",
    "import tensorflow as tf\n",
    "import tensorflow.keras as keras\n",
    "\n",
    "import json\n",
    "from sklearn.model_selection import train_test_split\n",
    "from tensorflow.keras import layers\n",
    "from tensorflow.keras import models\n",
    "from IPython import display"
   ]
  },
  {
   "cell_type": "code",
   "execution_count": 6,
   "metadata": {},
   "outputs": [
    {
     "name": "stdout",
     "output_type": "stream",
     "text": [
      "[('genres', ['blues', 'classical', 'country', 'disco', 'hiphop', 'jazz', 'metal', 'pop', 'reggae', 'rock'], []), ('genres\\\\blues', [], ['blues.00000.wav', 'blues.00001.wav', 'blues.00002.wav', 'blues.00003.wav', 'blues.00004.wav', 'blues.00005.wav', 'blues.00006.wav', 'blues.00007.wav', 'blues.00008.wav', 'blues.00009.wav', 'blues.00010.wav', 'blues.00011.wav', 'blues.00012.wav', 'blues.00013.wav', 'blues.00014.wav', 'blues.00015.wav', 'blues.00016.wav', 'blues.00017.wav', 'blues.00018.wav', 'blues.00019.wav', 'blues.00020.wav', 'blues.00021.wav', 'blues.00022.wav', 'blues.00023.wav', 'blues.00024.wav', 'blues.00025.wav', 'blues.00026.wav', 'blues.00027.wav', 'blues.00028.wav', 'blues.00029.wav', 'blues.00030.wav', 'blues.00031.wav', 'blues.00032.wav', 'blues.00033.wav', 'blues.00034.wav', 'blues.00035.wav', 'blues.00036.wav', 'blues.00037.wav', 'blues.00038.wav', 'blues.00039.wav', 'blues.00040.wav', 'blues.00041.wav', 'blues.00042.wav', 'blues.00043.wav', 'blues.00044.wav', 'blues.00045.wav', 'blues.00046.wav', 'blues.00047.wav', 'blues.00048.wav', 'blues.00049.wav', 'blues.00050.wav', 'blues.00051.wav', 'blues.00052.wav', 'blues.00053.wav', 'blues.00054.wav', 'blues.00055.wav', 'blues.00056.wav', 'blues.00057.wav', 'blues.00058.wav', 'blues.00059.wav', 'blues.00060.wav', 'blues.00061.wav', 'blues.00062.wav', 'blues.00063.wav', 'blues.00064.wav', 'blues.00065.wav', 'blues.00066.wav', 'blues.00067.wav', 'blues.00068.wav', 'blues.00069.wav', 'blues.00070.wav', 'blues.00071.wav', 'blues.00072.wav', 'blues.00073.wav', 'blues.00074.wav', 'blues.00075.wav', 'blues.00076.wav', 'blues.00077.wav', 'blues.00078.wav', 'blues.00079.wav', 'blues.00080.wav', 'blues.00081.wav', 'blues.00082.wav', 'blues.00083.wav', 'blues.00084.wav', 'blues.00085.wav', 'blues.00086.wav', 'blues.00087.wav', 'blues.00088.wav', 'blues.00089.wav', 'blues.00090.wav', 'blues.00091.wav', 'blues.00092.wav', 'blues.00093.wav', 'blues.00094.wav', 'blues.00095.wav', 'blues.00096.wav', 'blues.00097.wav', 'blues.00098.wav', 'blues.00099.wav']), ('genres\\\\classical', [], ['classical.00000.wav', 'classical.00001.wav', 'classical.00002.wav', 'classical.00003.wav', 'classical.00004.wav', 'classical.00005.wav', 'classical.00006.wav', 'classical.00007.wav', 'classical.00008.wav', 'classical.00009.wav', 'classical.00010.wav', 'classical.00011.wav', 'classical.00012.wav', 'classical.00013.wav', 'classical.00014.wav', 'classical.00015.wav', 'classical.00016.wav', 'classical.00017.wav', 'classical.00018.wav', 'classical.00019.wav', 'classical.00020.wav', 'classical.00021.wav', 'classical.00022.wav', 'classical.00023.wav', 'classical.00024.wav', 'classical.00025.wav', 'classical.00026.wav', 'classical.00027.wav', 'classical.00028.wav', 'classical.00029.wav', 'classical.00030.wav', 'classical.00031.wav', 'classical.00032.wav', 'classical.00033.wav', 'classical.00034.wav', 'classical.00035.wav', 'classical.00036.wav', 'classical.00037.wav', 'classical.00038.wav', 'classical.00039.wav', 'classical.00040.wav', 'classical.00041.wav', 'classical.00042.wav', 'classical.00043.wav', 'classical.00044.wav', 'classical.00045.wav', 'classical.00046.wav', 'classical.00047.wav', 'classical.00048.wav', 'classical.00049.wav', 'classical.00050.wav', 'classical.00051.wav', 'classical.00052.wav', 'classical.00053.wav', 'classical.00054.wav', 'classical.00055.wav', 'classical.00056.wav', 'classical.00057.wav', 'classical.00058.wav', 'classical.00059.wav', 'classical.00060.wav', 'classical.00061.wav', 'classical.00062.wav', 'classical.00063.wav', 'classical.00064.wav', 'classical.00065.wav', 'classical.00066.wav', 'classical.00067.wav', 'classical.00068.wav', 'classical.00069.wav', 'classical.00070.wav', 'classical.00071.wav', 'classical.00072.wav', 'classical.00073.wav', 'classical.00074.wav', 'classical.00075.wav', 'classical.00076.wav', 'classical.00077.wav', 'classical.00078.wav', 'classical.00079.wav', 'classical.00080.wav', 'classical.00081.wav', 'classical.00082.wav', 'classical.00083.wav', 'classical.00084.wav', 'classical.00085.wav', 'classical.00086.wav', 'classical.00087.wav', 'classical.00088.wav', 'classical.00089.wav', 'classical.00090.wav', 'classical.00091.wav', 'classical.00092.wav', 'classical.00093.wav', 'classical.00094.wav', 'classical.00095.wav', 'classical.00096.wav', 'classical.00097.wav', 'classical.00098.wav', 'classical.00099.wav']), ('genres\\\\country', [], ['country.00000.wav', 'country.00001.wav', 'country.00002.wav', 'country.00003.wav', 'country.00004.wav', 'country.00005.wav', 'country.00006.wav', 'country.00007.wav', 'country.00008.wav', 'country.00009.wav', 'country.00010.wav', 'country.00011.wav', 'country.00012.wav', 'country.00013.wav', 'country.00014.wav', 'country.00015.wav', 'country.00016.wav', 'country.00017.wav', 'country.00018.wav', 'country.00019.wav', 'country.00020.wav', 'country.00021.wav', 'country.00022.wav', 'country.00023.wav', 'country.00024.wav', 'country.00025.wav', 'country.00026.wav', 'country.00027.wav', 'country.00028.wav', 'country.00029.wav', 'country.00030.wav', 'country.00031.wav', 'country.00032.wav', 'country.00033.wav', 'country.00034.wav', 'country.00035.wav', 'country.00036.wav', 'country.00037.wav', 'country.00038.wav', 'country.00039.wav', 'country.00040.wav', 'country.00041.wav', 'country.00042.wav', 'country.00043.wav', 'country.00044.wav', 'country.00045.wav', 'country.00046.wav', 'country.00047.wav', 'country.00048.wav', 'country.00049.wav', 'country.00050.wav', 'country.00051.wav', 'country.00052.wav', 'country.00053.wav', 'country.00054.wav', 'country.00055.wav', 'country.00056.wav', 'country.00057.wav', 'country.00058.wav', 'country.00059.wav', 'country.00060.wav', 'country.00061.wav', 'country.00062.wav', 'country.00063.wav', 'country.00064.wav', 'country.00065.wav', 'country.00066.wav', 'country.00067.wav', 'country.00068.wav', 'country.00069.wav', 'country.00070.wav', 'country.00071.wav', 'country.00072.wav', 'country.00073.wav', 'country.00074.wav', 'country.00075.wav', 'country.00076.wav', 'country.00077.wav', 'country.00078.wav', 'country.00079.wav', 'country.00080.wav', 'country.00081.wav', 'country.00082.wav', 'country.00083.wav', 'country.00084.wav', 'country.00085.wav', 'country.00086.wav', 'country.00087.wav', 'country.00088.wav', 'country.00089.wav', 'country.00090.wav', 'country.00091.wav', 'country.00092.wav', 'country.00093.wav', 'country.00094.wav', 'country.00095.wav', 'country.00096.wav', 'country.00097.wav', 'country.00098.wav', 'country.00099.wav']), ('genres\\\\disco', [], ['disco.00000.wav', 'disco.00001.wav', 'disco.00002.wav', 'disco.00003.wav', 'disco.00004.wav', 'disco.00005.wav', 'disco.00006.wav', 'disco.00007.wav', 'disco.00008.wav', 'disco.00009.wav', 'disco.00010.wav', 'disco.00011.wav', 'disco.00012.wav', 'disco.00013.wav', 'disco.00014.wav', 'disco.00015.wav', 'disco.00016.wav', 'disco.00017.wav', 'disco.00018.wav', 'disco.00019.wav', 'disco.00020.wav', 'disco.00021.wav', 'disco.00022.wav', 'disco.00023.wav', 'disco.00024.wav', 'disco.00025.wav', 'disco.00026.wav', 'disco.00027.wav', 'disco.00028.wav', 'disco.00029.wav', 'disco.00030.wav', 'disco.00031.wav', 'disco.00032.wav', 'disco.00033.wav', 'disco.00034.wav', 'disco.00035.wav', 'disco.00036.wav', 'disco.00037.wav', 'disco.00038.wav', 'disco.00039.wav', 'disco.00040.wav', 'disco.00041.wav', 'disco.00042.wav', 'disco.00043.wav', 'disco.00044.wav', 'disco.00045.wav', 'disco.00046.wav', 'disco.00047.wav', 'disco.00048.wav', 'disco.00049.wav', 'disco.00050.wav', 'disco.00051.wav', 'disco.00052.wav', 'disco.00053.wav', 'disco.00054.wav', 'disco.00055.wav', 'disco.00056.wav', 'disco.00057.wav', 'disco.00058.wav', 'disco.00059.wav', 'disco.00060.wav', 'disco.00061.wav', 'disco.00062.wav', 'disco.00063.wav', 'disco.00064.wav', 'disco.00065.wav', 'disco.00066.wav', 'disco.00067.wav', 'disco.00068.wav', 'disco.00069.wav', 'disco.00070.wav', 'disco.00071.wav', 'disco.00072.wav', 'disco.00073.wav', 'disco.00074.wav', 'disco.00075.wav', 'disco.00076.wav', 'disco.00077.wav', 'disco.00078.wav', 'disco.00079.wav', 'disco.00080.wav', 'disco.00081.wav', 'disco.00082.wav', 'disco.00083.wav', 'disco.00084.wav', 'disco.00085.wav', 'disco.00086.wav', 'disco.00087.wav', 'disco.00088.wav', 'disco.00089.wav', 'disco.00090.wav', 'disco.00091.wav', 'disco.00092.wav', 'disco.00093.wav', 'disco.00094.wav', 'disco.00095.wav', 'disco.00096.wav', 'disco.00097.wav', 'disco.00098.wav', 'disco.00099.wav']), ('genres\\\\hiphop', [], ['hiphop.00000.wav', 'hiphop.00001.wav', 'hiphop.00002.wav', 'hiphop.00003.wav', 'hiphop.00004.wav', 'hiphop.00005.wav', 'hiphop.00006.wav', 'hiphop.00007.wav', 'hiphop.00008.wav', 'hiphop.00009.wav', 'hiphop.00010.wav', 'hiphop.00011.wav', 'hiphop.00012.wav', 'hiphop.00013.wav', 'hiphop.00014.wav', 'hiphop.00015.wav', 'hiphop.00016.wav', 'hiphop.00017.wav', 'hiphop.00018.wav', 'hiphop.00019.wav', 'hiphop.00020.wav', 'hiphop.00021.wav', 'hiphop.00022.wav', 'hiphop.00023.wav', 'hiphop.00024.wav', 'hiphop.00025.wav', 'hiphop.00026.wav', 'hiphop.00027.wav', 'hiphop.00028.wav', 'hiphop.00029.wav', 'hiphop.00030.wav', 'hiphop.00031.wav', 'hiphop.00032.wav', 'hiphop.00033.wav', 'hiphop.00034.wav', 'hiphop.00035.wav', 'hiphop.00036.wav', 'hiphop.00037.wav', 'hiphop.00038.wav', 'hiphop.00039.wav', 'hiphop.00040.wav', 'hiphop.00041.wav', 'hiphop.00042.wav', 'hiphop.00043.wav', 'hiphop.00044.wav', 'hiphop.00045.wav', 'hiphop.00046.wav', 'hiphop.00047.wav', 'hiphop.00048.wav', 'hiphop.00049.wav', 'hiphop.00050.wav', 'hiphop.00051.wav', 'hiphop.00052.wav', 'hiphop.00053.wav', 'hiphop.00054.wav', 'hiphop.00055.wav', 'hiphop.00056.wav', 'hiphop.00057.wav', 'hiphop.00058.wav', 'hiphop.00059.wav', 'hiphop.00060.wav', 'hiphop.00061.wav', 'hiphop.00062.wav', 'hiphop.00063.wav', 'hiphop.00064.wav', 'hiphop.00065.wav', 'hiphop.00066.wav', 'hiphop.00067.wav', 'hiphop.00068.wav', 'hiphop.00069.wav', 'hiphop.00070.wav', 'hiphop.00071.wav', 'hiphop.00072.wav', 'hiphop.00073.wav', 'hiphop.00074.wav', 'hiphop.00075.wav', 'hiphop.00076.wav', 'hiphop.00077.wav', 'hiphop.00078.wav', 'hiphop.00079.wav', 'hiphop.00080.wav', 'hiphop.00081.wav', 'hiphop.00082.wav', 'hiphop.00083.wav', 'hiphop.00084.wav', 'hiphop.00085.wav', 'hiphop.00086.wav', 'hiphop.00087.wav', 'hiphop.00088.wav', 'hiphop.00089.wav', 'hiphop.00090.wav', 'hiphop.00091.wav', 'hiphop.00092.wav', 'hiphop.00093.wav', 'hiphop.00094.wav', 'hiphop.00095.wav', 'hiphop.00096.wav', 'hiphop.00097.wav', 'hiphop.00098.wav', 'hiphop.00099.wav']), ('genres\\\\jazz', [], ['jazz.00000.wav', 'jazz.00001.wav', 'jazz.00002.wav', 'jazz.00003.wav', 'jazz.00004.wav', 'jazz.00005.wav', 'jazz.00006.wav', 'jazz.00007.wav', 'jazz.00008.wav', 'jazz.00009.wav', 'jazz.00010.wav', 'jazz.00011.wav', 'jazz.00012.wav', 'jazz.00013.wav', 'jazz.00014.wav', 'jazz.00015.wav', 'jazz.00016.wav', 'jazz.00017.wav', 'jazz.00018.wav', 'jazz.00019.wav', 'jazz.00020.wav', 'jazz.00021.wav', 'jazz.00022.wav', 'jazz.00023.wav', 'jazz.00024.wav', 'jazz.00025.wav', 'jazz.00026.wav', 'jazz.00027.wav', 'jazz.00028.wav', 'jazz.00029.wav', 'jazz.00030.wav', 'jazz.00031.wav', 'jazz.00032.wav', 'jazz.00033.wav', 'jazz.00034.wav', 'jazz.00035.wav', 'jazz.00036.wav', 'jazz.00037.wav', 'jazz.00038.wav', 'jazz.00039.wav', 'jazz.00040.wav', 'jazz.00041.wav', 'jazz.00042.wav', 'jazz.00043.wav', 'jazz.00044.wav', 'jazz.00045.wav', 'jazz.00046.wav', 'jazz.00047.wav', 'jazz.00048.wav', 'jazz.00049.wav', 'jazz.00050.wav', 'jazz.00051.wav', 'jazz.00052.wav', 'jazz.00053.wav', 'jazz.00054.wav', 'jazz.00055.wav', 'jazz.00056.wav', 'jazz.00057.wav', 'jazz.00058.wav', 'jazz.00059.wav', 'jazz.00060.wav', 'jazz.00061.wav', 'jazz.00062.wav', 'jazz.00063.wav', 'jazz.00064.wav', 'jazz.00065.wav', 'jazz.00066.wav', 'jazz.00067.wav', 'jazz.00068.wav', 'jazz.00069.wav', 'jazz.00070.wav', 'jazz.00071.wav', 'jazz.00072.wav', 'jazz.00073.wav', 'jazz.00074.wav', 'jazz.00075.wav', 'jazz.00076.wav', 'jazz.00077.wav', 'jazz.00078.wav', 'jazz.00079.wav', 'jazz.00080.wav', 'jazz.00081.wav', 'jazz.00082.wav', 'jazz.00083.wav', 'jazz.00084.wav', 'jazz.00085.wav', 'jazz.00086.wav', 'jazz.00087.wav', 'jazz.00088.wav', 'jazz.00089.wav', 'jazz.00090.wav', 'jazz.00091.wav', 'jazz.00092.wav', 'jazz.00093.wav', 'jazz.00094.wav', 'jazz.00095.wav', 'jazz.00096.wav', 'jazz.00097.wav', 'jazz.00098.wav', 'jazz.00099.wav']), ('genres\\\\metal', [], ['metal.00000.wav', 'metal.00001.wav', 'metal.00002.wav', 'metal.00003.wav', 'metal.00004.wav', 'metal.00005.wav', 'metal.00006.wav', 'metal.00007.wav', 'metal.00008.wav', 'metal.00009.wav', 'metal.00010.wav', 'metal.00011.wav', 'metal.00012.wav', 'metal.00013.wav', 'metal.00014.wav', 'metal.00015.wav', 'metal.00016.wav', 'metal.00017.wav', 'metal.00018.wav', 'metal.00019.wav', 'metal.00020.wav', 'metal.00021.wav', 'metal.00022.wav', 'metal.00023.wav', 'metal.00024.wav', 'metal.00025.wav', 'metal.00026.wav', 'metal.00027.wav', 'metal.00028.wav', 'metal.00029.wav', 'metal.00030.wav', 'metal.00031.wav', 'metal.00032.wav', 'metal.00033.wav', 'metal.00034.wav', 'metal.00035.wav', 'metal.00036.wav', 'metal.00037.wav', 'metal.00038.wav', 'metal.00039.wav', 'metal.00040.wav', 'metal.00041.wav', 'metal.00042.wav', 'metal.00043.wav', 'metal.00044.wav', 'metal.00045.wav', 'metal.00046.wav', 'metal.00047.wav', 'metal.00048.wav', 'metal.00049.wav', 'metal.00050.wav', 'metal.00051.wav', 'metal.00052.wav', 'metal.00053.wav', 'metal.00054.wav', 'metal.00055.wav', 'metal.00056.wav', 'metal.00057.wav', 'metal.00058.wav', 'metal.00059.wav', 'metal.00060.wav', 'metal.00061.wav', 'metal.00062.wav', 'metal.00063.wav', 'metal.00064.wav', 'metal.00065.wav', 'metal.00066.wav', 'metal.00067.wav', 'metal.00068.wav', 'metal.00069.wav', 'metal.00070.wav', 'metal.00071.wav', 'metal.00072.wav', 'metal.00073.wav', 'metal.00074.wav', 'metal.00075.wav', 'metal.00076.wav', 'metal.00077.wav', 'metal.00078.wav', 'metal.00079.wav', 'metal.00080.wav', 'metal.00081.wav', 'metal.00082.wav', 'metal.00083.wav', 'metal.00084.wav', 'metal.00085.wav', 'metal.00086.wav', 'metal.00087.wav', 'metal.00088.wav', 'metal.00089.wav', 'metal.00090.wav', 'metal.00091.wav', 'metal.00092.wav', 'metal.00093.wav', 'metal.00094.wav', 'metal.00095.wav', 'metal.00096.wav', 'metal.00097.wav', 'metal.00098.wav', 'metal.00099.wav']), ('genres\\\\pop', [], ['pop.00000.wav', 'pop.00001.wav', 'pop.00002.wav', 'pop.00003.wav', 'pop.00004.wav', 'pop.00005.wav', 'pop.00006.wav', 'pop.00007.wav', 'pop.00008.wav', 'pop.00009.wav', 'pop.00010.wav', 'pop.00011.wav', 'pop.00012.wav', 'pop.00013.wav', 'pop.00014.wav', 'pop.00015.wav', 'pop.00016.wav', 'pop.00017.wav', 'pop.00018.wav', 'pop.00019.wav', 'pop.00020.wav', 'pop.00021.wav', 'pop.00022.wav', 'pop.00023.wav', 'pop.00024.wav', 'pop.00025.wav', 'pop.00026.wav', 'pop.00027.wav', 'pop.00028.wav', 'pop.00029.wav', 'pop.00030.wav', 'pop.00031.wav', 'pop.00032.wav', 'pop.00033.wav', 'pop.00034.wav', 'pop.00035.wav', 'pop.00036.wav', 'pop.00037.wav', 'pop.00038.wav', 'pop.00039.wav', 'pop.00040.wav', 'pop.00041.wav', 'pop.00042.wav', 'pop.00043.wav', 'pop.00044.wav', 'pop.00045.wav', 'pop.00046.wav', 'pop.00047.wav', 'pop.00048.wav', 'pop.00049.wav', 'pop.00050.wav', 'pop.00051.wav', 'pop.00052.wav', 'pop.00053.wav', 'pop.00054.wav', 'pop.00055.wav', 'pop.00056.wav', 'pop.00057.wav', 'pop.00058.wav', 'pop.00059.wav', 'pop.00060.wav', 'pop.00061.wav', 'pop.00062.wav', 'pop.00063.wav', 'pop.00064.wav', 'pop.00065.wav', 'pop.00066.wav', 'pop.00067.wav', 'pop.00068.wav', 'pop.00069.wav', 'pop.00070.wav', 'pop.00071.wav', 'pop.00072.wav', 'pop.00073.wav', 'pop.00074.wav', 'pop.00075.wav', 'pop.00076.wav', 'pop.00077.wav', 'pop.00078.wav', 'pop.00079.wav', 'pop.00080.wav', 'pop.00081.wav', 'pop.00082.wav', 'pop.00083.wav', 'pop.00084.wav', 'pop.00085.wav', 'pop.00086.wav', 'pop.00087.wav', 'pop.00088.wav', 'pop.00089.wav', 'pop.00090.wav', 'pop.00091.wav', 'pop.00092.wav', 'pop.00093.wav', 'pop.00094.wav', 'pop.00095.wav', 'pop.00096.wav', 'pop.00097.wav', 'pop.00098.wav', 'pop.00099.wav']), ('genres\\\\reggae', [], ['reggae.00000.wav', 'reggae.00001.wav', 'reggae.00002.wav', 'reggae.00003.wav', 'reggae.00004.wav', 'reggae.00005.wav', 'reggae.00006.wav', 'reggae.00007.wav', 'reggae.00008.wav', 'reggae.00009.wav', 'reggae.00010.wav', 'reggae.00011.wav', 'reggae.00012.wav', 'reggae.00013.wav', 'reggae.00014.wav', 'reggae.00015.wav', 'reggae.00016.wav', 'reggae.00017.wav', 'reggae.00018.wav', 'reggae.00019.wav', 'reggae.00020.wav', 'reggae.00021.wav', 'reggae.00022.wav', 'reggae.00023.wav', 'reggae.00024.wav', 'reggae.00025.wav', 'reggae.00026.wav', 'reggae.00027.wav', 'reggae.00028.wav', 'reggae.00029.wav', 'reggae.00030.wav', 'reggae.00031.wav', 'reggae.00032.wav', 'reggae.00033.wav', 'reggae.00034.wav', 'reggae.00035.wav', 'reggae.00036.wav', 'reggae.00037.wav', 'reggae.00038.wav', 'reggae.00039.wav', 'reggae.00040.wav', 'reggae.00041.wav', 'reggae.00042.wav', 'reggae.00043.wav', 'reggae.00044.wav', 'reggae.00045.wav', 'reggae.00046.wav', 'reggae.00047.wav', 'reggae.00048.wav', 'reggae.00049.wav', 'reggae.00050.wav', 'reggae.00051.wav', 'reggae.00052.wav', 'reggae.00053.wav', 'reggae.00054.wav', 'reggae.00055.wav', 'reggae.00056.wav', 'reggae.00057.wav', 'reggae.00058.wav', 'reggae.00059.wav', 'reggae.00060.wav', 'reggae.00061.wav', 'reggae.00062.wav', 'reggae.00063.wav', 'reggae.00064.wav', 'reggae.00065.wav', 'reggae.00066.wav', 'reggae.00067.wav', 'reggae.00068.wav', 'reggae.00069.wav', 'reggae.00070.wav', 'reggae.00071.wav', 'reggae.00072.wav', 'reggae.00073.wav', 'reggae.00074.wav', 'reggae.00075.wav', 'reggae.00076.wav', 'reggae.00077.wav', 'reggae.00078.wav', 'reggae.00079.wav', 'reggae.00080.wav', 'reggae.00081.wav', 'reggae.00082.wav', 'reggae.00083.wav', 'reggae.00084.wav', 'reggae.00085.wav', 'reggae.00086.wav', 'reggae.00087.wav', 'reggae.00088.wav', 'reggae.00089.wav', 'reggae.00090.wav', 'reggae.00091.wav', 'reggae.00092.wav', 'reggae.00093.wav', 'reggae.00094.wav', 'reggae.00095.wav', 'reggae.00096.wav', 'reggae.00097.wav', 'reggae.00098.wav', 'reggae.00099.wav']), ('genres\\\\rock', [], ['rock.00000.wav', 'rock.00001.wav', 'rock.00002.wav', 'rock.00003.wav', 'rock.00004.wav', 'rock.00005.wav', 'rock.00006.wav', 'rock.00007.wav', 'rock.00008.wav', 'rock.00009.wav', 'rock.00010.wav', 'rock.00011.wav', 'rock.00012.wav', 'rock.00013.wav', 'rock.00014.wav', 'rock.00015.wav', 'rock.00016.wav', 'rock.00017.wav', 'rock.00018.wav', 'rock.00019.wav', 'rock.00020.wav', 'rock.00021.wav', 'rock.00022.wav', 'rock.00023.wav', 'rock.00024.wav', 'rock.00025.wav', 'rock.00026.wav', 'rock.00027.wav', 'rock.00028.wav', 'rock.00029.wav', 'rock.00030.wav', 'rock.00031.wav', 'rock.00032.wav', 'rock.00033.wav', 'rock.00034.wav', 'rock.00035.wav', 'rock.00036.wav', 'rock.00037.wav', 'rock.00038.wav', 'rock.00039.wav', 'rock.00040.wav', 'rock.00041.wav', 'rock.00042.wav', 'rock.00043.wav', 'rock.00044.wav', 'rock.00045.wav', 'rock.00046.wav', 'rock.00047.wav', 'rock.00048.wav', 'rock.00049.wav', 'rock.00050.wav', 'rock.00051.wav', 'rock.00052.wav', 'rock.00053.wav', 'rock.00054.wav', 'rock.00055.wav', 'rock.00056.wav', 'rock.00057.wav', 'rock.00058.wav', 'rock.00059.wav', 'rock.00060.wav', 'rock.00061.wav', 'rock.00062.wav', 'rock.00063.wav', 'rock.00064.wav', 'rock.00065.wav', 'rock.00066.wav', 'rock.00067.wav', 'rock.00068.wav', 'rock.00069.wav', 'rock.00070.wav', 'rock.00071.wav', 'rock.00072.wav', 'rock.00073.wav', 'rock.00074.wav', 'rock.00075.wav', 'rock.00076.wav', 'rock.00077.wav', 'rock.00078.wav', 'rock.00079.wav', 'rock.00080.wav', 'rock.00081.wav', 'rock.00082.wav', 'rock.00083.wav', 'rock.00084.wav', 'rock.00085.wav', 'rock.00086.wav', 'rock.00087.wav', 'rock.00088.wav', 'rock.00089.wav', 'rock.00090.wav', 'rock.00091.wav', 'rock.00092.wav', 'rock.00093.wav', 'rock.00094.wav', 'rock.00095.wav', 'rock.00096.wav', 'rock.00097.wav', 'rock.00098.wav', 'rock.00099.wav'])]\n",
      "Dirpath: genres\\blues\n",
      "Dirname: []\n",
      "Filenames: ['blues.00000.wav', 'blues.00001.wav', 'blues.00002.wav', 'blues.00003.wav', 'blues.00004.wav', 'blues.00005.wav', 'blues.00006.wav', 'blues.00007.wav', 'blues.00008.wav', 'blues.00009.wav', 'blues.00010.wav', 'blues.00011.wav', 'blues.00012.wav', 'blues.00013.wav', 'blues.00014.wav', 'blues.00015.wav', 'blues.00016.wav', 'blues.00017.wav', 'blues.00018.wav', 'blues.00019.wav', 'blues.00020.wav', 'blues.00021.wav', 'blues.00022.wav', 'blues.00023.wav', 'blues.00024.wav', 'blues.00025.wav', 'blues.00026.wav', 'blues.00027.wav', 'blues.00028.wav', 'blues.00029.wav', 'blues.00030.wav', 'blues.00031.wav', 'blues.00032.wav', 'blues.00033.wav', 'blues.00034.wav', 'blues.00035.wav', 'blues.00036.wav', 'blues.00037.wav', 'blues.00038.wav', 'blues.00039.wav', 'blues.00040.wav', 'blues.00041.wav', 'blues.00042.wav', 'blues.00043.wav', 'blues.00044.wav', 'blues.00045.wav', 'blues.00046.wav', 'blues.00047.wav', 'blues.00048.wav', 'blues.00049.wav', 'blues.00050.wav', 'blues.00051.wav', 'blues.00052.wav', 'blues.00053.wav', 'blues.00054.wav', 'blues.00055.wav', 'blues.00056.wav', 'blues.00057.wav', 'blues.00058.wav', 'blues.00059.wav', 'blues.00060.wav', 'blues.00061.wav', 'blues.00062.wav', 'blues.00063.wav', 'blues.00064.wav', 'blues.00065.wav', 'blues.00066.wav', 'blues.00067.wav', 'blues.00068.wav', 'blues.00069.wav', 'blues.00070.wav', 'blues.00071.wav', 'blues.00072.wav', 'blues.00073.wav', 'blues.00074.wav', 'blues.00075.wav', 'blues.00076.wav', 'blues.00077.wav', 'blues.00078.wav', 'blues.00079.wav', 'blues.00080.wav', 'blues.00081.wav', 'blues.00082.wav', 'blues.00083.wav', 'blues.00084.wav', 'blues.00085.wav', 'blues.00086.wav', 'blues.00087.wav', 'blues.00088.wav', 'blues.00089.wav', 'blues.00090.wav', 'blues.00091.wav', 'blues.00092.wav', 'blues.00093.wav', 'blues.00094.wav', 'blues.00095.wav', 'blues.00096.wav', 'blues.00097.wav', 'blues.00098.wav', 'blues.00099.wav']\n",
      "\n",
      "Dirpath: genres\\classical\n",
      "Dirname: []\n",
      "Filenames: ['classical.00000.wav', 'classical.00001.wav', 'classical.00002.wav', 'classical.00003.wav', 'classical.00004.wav', 'classical.00005.wav', 'classical.00006.wav', 'classical.00007.wav', 'classical.00008.wav', 'classical.00009.wav', 'classical.00010.wav', 'classical.00011.wav', 'classical.00012.wav', 'classical.00013.wav', 'classical.00014.wav', 'classical.00015.wav', 'classical.00016.wav', 'classical.00017.wav', 'classical.00018.wav', 'classical.00019.wav', 'classical.00020.wav', 'classical.00021.wav', 'classical.00022.wav', 'classical.00023.wav', 'classical.00024.wav', 'classical.00025.wav', 'classical.00026.wav', 'classical.00027.wav', 'classical.00028.wav', 'classical.00029.wav', 'classical.00030.wav', 'classical.00031.wav', 'classical.00032.wav', 'classical.00033.wav', 'classical.00034.wav', 'classical.00035.wav', 'classical.00036.wav', 'classical.00037.wav', 'classical.00038.wav', 'classical.00039.wav', 'classical.00040.wav', 'classical.00041.wav', 'classical.00042.wav', 'classical.00043.wav', 'classical.00044.wav', 'classical.00045.wav', 'classical.00046.wav', 'classical.00047.wav', 'classical.00048.wav', 'classical.00049.wav', 'classical.00050.wav', 'classical.00051.wav', 'classical.00052.wav', 'classical.00053.wav', 'classical.00054.wav', 'classical.00055.wav', 'classical.00056.wav', 'classical.00057.wav', 'classical.00058.wav', 'classical.00059.wav', 'classical.00060.wav', 'classical.00061.wav', 'classical.00062.wav', 'classical.00063.wav', 'classical.00064.wav', 'classical.00065.wav', 'classical.00066.wav', 'classical.00067.wav', 'classical.00068.wav', 'classical.00069.wav', 'classical.00070.wav', 'classical.00071.wav', 'classical.00072.wav', 'classical.00073.wav', 'classical.00074.wav', 'classical.00075.wav', 'classical.00076.wav', 'classical.00077.wav', 'classical.00078.wav', 'classical.00079.wav', 'classical.00080.wav', 'classical.00081.wav', 'classical.00082.wav', 'classical.00083.wav', 'classical.00084.wav', 'classical.00085.wav', 'classical.00086.wav', 'classical.00087.wav', 'classical.00088.wav', 'classical.00089.wav', 'classical.00090.wav', 'classical.00091.wav', 'classical.00092.wav', 'classical.00093.wav', 'classical.00094.wav', 'classical.00095.wav', 'classical.00096.wav', 'classical.00097.wav', 'classical.00098.wav', 'classical.00099.wav']\n",
      "\n",
      "Dirpath: genres\\country\n",
      "Dirname: []\n",
      "Filenames: ['country.00000.wav', 'country.00001.wav', 'country.00002.wav', 'country.00003.wav', 'country.00004.wav', 'country.00005.wav', 'country.00006.wav', 'country.00007.wav', 'country.00008.wav', 'country.00009.wav', 'country.00010.wav', 'country.00011.wav', 'country.00012.wav', 'country.00013.wav', 'country.00014.wav', 'country.00015.wav', 'country.00016.wav', 'country.00017.wav', 'country.00018.wav', 'country.00019.wav', 'country.00020.wav', 'country.00021.wav', 'country.00022.wav', 'country.00023.wav', 'country.00024.wav', 'country.00025.wav', 'country.00026.wav', 'country.00027.wav', 'country.00028.wav', 'country.00029.wav', 'country.00030.wav', 'country.00031.wav', 'country.00032.wav', 'country.00033.wav', 'country.00034.wav', 'country.00035.wav', 'country.00036.wav', 'country.00037.wav', 'country.00038.wav', 'country.00039.wav', 'country.00040.wav', 'country.00041.wav', 'country.00042.wav', 'country.00043.wav', 'country.00044.wav', 'country.00045.wav', 'country.00046.wav', 'country.00047.wav', 'country.00048.wav', 'country.00049.wav', 'country.00050.wav', 'country.00051.wav', 'country.00052.wav', 'country.00053.wav', 'country.00054.wav', 'country.00055.wav', 'country.00056.wav', 'country.00057.wav', 'country.00058.wav', 'country.00059.wav', 'country.00060.wav', 'country.00061.wav', 'country.00062.wav', 'country.00063.wav', 'country.00064.wav', 'country.00065.wav', 'country.00066.wav', 'country.00067.wav', 'country.00068.wav', 'country.00069.wav', 'country.00070.wav', 'country.00071.wav', 'country.00072.wav', 'country.00073.wav', 'country.00074.wav', 'country.00075.wav', 'country.00076.wav', 'country.00077.wav', 'country.00078.wav', 'country.00079.wav', 'country.00080.wav', 'country.00081.wav', 'country.00082.wav', 'country.00083.wav', 'country.00084.wav', 'country.00085.wav', 'country.00086.wav', 'country.00087.wav', 'country.00088.wav', 'country.00089.wav', 'country.00090.wav', 'country.00091.wav', 'country.00092.wav', 'country.00093.wav', 'country.00094.wav', 'country.00095.wav', 'country.00096.wav', 'country.00097.wav', 'country.00098.wav', 'country.00099.wav']\n",
      "\n",
      "Dirpath: genres\\disco\n",
      "Dirname: []\n",
      "Filenames: ['disco.00000.wav', 'disco.00001.wav', 'disco.00002.wav', 'disco.00003.wav', 'disco.00004.wav', 'disco.00005.wav', 'disco.00006.wav', 'disco.00007.wav', 'disco.00008.wav', 'disco.00009.wav', 'disco.00010.wav', 'disco.00011.wav', 'disco.00012.wav', 'disco.00013.wav', 'disco.00014.wav', 'disco.00015.wav', 'disco.00016.wav', 'disco.00017.wav', 'disco.00018.wav', 'disco.00019.wav', 'disco.00020.wav', 'disco.00021.wav', 'disco.00022.wav', 'disco.00023.wav', 'disco.00024.wav', 'disco.00025.wav', 'disco.00026.wav', 'disco.00027.wav', 'disco.00028.wav', 'disco.00029.wav', 'disco.00030.wav', 'disco.00031.wav', 'disco.00032.wav', 'disco.00033.wav', 'disco.00034.wav', 'disco.00035.wav', 'disco.00036.wav', 'disco.00037.wav', 'disco.00038.wav', 'disco.00039.wav', 'disco.00040.wav', 'disco.00041.wav', 'disco.00042.wav', 'disco.00043.wav', 'disco.00044.wav', 'disco.00045.wav', 'disco.00046.wav', 'disco.00047.wav', 'disco.00048.wav', 'disco.00049.wav', 'disco.00050.wav', 'disco.00051.wav', 'disco.00052.wav', 'disco.00053.wav', 'disco.00054.wav', 'disco.00055.wav', 'disco.00056.wav', 'disco.00057.wav', 'disco.00058.wav', 'disco.00059.wav', 'disco.00060.wav', 'disco.00061.wav', 'disco.00062.wav', 'disco.00063.wav', 'disco.00064.wav', 'disco.00065.wav', 'disco.00066.wav', 'disco.00067.wav', 'disco.00068.wav', 'disco.00069.wav', 'disco.00070.wav', 'disco.00071.wav', 'disco.00072.wav', 'disco.00073.wav', 'disco.00074.wav', 'disco.00075.wav', 'disco.00076.wav', 'disco.00077.wav', 'disco.00078.wav', 'disco.00079.wav', 'disco.00080.wav', 'disco.00081.wav', 'disco.00082.wav', 'disco.00083.wav', 'disco.00084.wav', 'disco.00085.wav', 'disco.00086.wav', 'disco.00087.wav', 'disco.00088.wav', 'disco.00089.wav', 'disco.00090.wav', 'disco.00091.wav', 'disco.00092.wav', 'disco.00093.wav', 'disco.00094.wav', 'disco.00095.wav', 'disco.00096.wav', 'disco.00097.wav', 'disco.00098.wav', 'disco.00099.wav']\n",
      "\n",
      "Dirpath: genres\\hiphop\n",
      "Dirname: []\n",
      "Filenames: ['hiphop.00000.wav', 'hiphop.00001.wav', 'hiphop.00002.wav', 'hiphop.00003.wav', 'hiphop.00004.wav', 'hiphop.00005.wav', 'hiphop.00006.wav', 'hiphop.00007.wav', 'hiphop.00008.wav', 'hiphop.00009.wav', 'hiphop.00010.wav', 'hiphop.00011.wav', 'hiphop.00012.wav', 'hiphop.00013.wav', 'hiphop.00014.wav', 'hiphop.00015.wav', 'hiphop.00016.wav', 'hiphop.00017.wav', 'hiphop.00018.wav', 'hiphop.00019.wav', 'hiphop.00020.wav', 'hiphop.00021.wav', 'hiphop.00022.wav', 'hiphop.00023.wav', 'hiphop.00024.wav', 'hiphop.00025.wav', 'hiphop.00026.wav', 'hiphop.00027.wav', 'hiphop.00028.wav', 'hiphop.00029.wav', 'hiphop.00030.wav', 'hiphop.00031.wav', 'hiphop.00032.wav', 'hiphop.00033.wav', 'hiphop.00034.wav', 'hiphop.00035.wav', 'hiphop.00036.wav', 'hiphop.00037.wav', 'hiphop.00038.wav', 'hiphop.00039.wav', 'hiphop.00040.wav', 'hiphop.00041.wav', 'hiphop.00042.wav', 'hiphop.00043.wav', 'hiphop.00044.wav', 'hiphop.00045.wav', 'hiphop.00046.wav', 'hiphop.00047.wav', 'hiphop.00048.wav', 'hiphop.00049.wav', 'hiphop.00050.wav', 'hiphop.00051.wav', 'hiphop.00052.wav', 'hiphop.00053.wav', 'hiphop.00054.wav', 'hiphop.00055.wav', 'hiphop.00056.wav', 'hiphop.00057.wav', 'hiphop.00058.wav', 'hiphop.00059.wav', 'hiphop.00060.wav', 'hiphop.00061.wav', 'hiphop.00062.wav', 'hiphop.00063.wav', 'hiphop.00064.wav', 'hiphop.00065.wav', 'hiphop.00066.wav', 'hiphop.00067.wav', 'hiphop.00068.wav', 'hiphop.00069.wav', 'hiphop.00070.wav', 'hiphop.00071.wav', 'hiphop.00072.wav', 'hiphop.00073.wav', 'hiphop.00074.wav', 'hiphop.00075.wav', 'hiphop.00076.wav', 'hiphop.00077.wav', 'hiphop.00078.wav', 'hiphop.00079.wav', 'hiphop.00080.wav', 'hiphop.00081.wav', 'hiphop.00082.wav', 'hiphop.00083.wav', 'hiphop.00084.wav', 'hiphop.00085.wav', 'hiphop.00086.wav', 'hiphop.00087.wav', 'hiphop.00088.wav', 'hiphop.00089.wav', 'hiphop.00090.wav', 'hiphop.00091.wav', 'hiphop.00092.wav', 'hiphop.00093.wav', 'hiphop.00094.wav', 'hiphop.00095.wav', 'hiphop.00096.wav', 'hiphop.00097.wav', 'hiphop.00098.wav', 'hiphop.00099.wav']\n",
      "\n",
      "Dirpath: genres\\jazz\n",
      "Dirname: []\n",
      "Filenames: ['jazz.00000.wav', 'jazz.00001.wav', 'jazz.00002.wav', 'jazz.00003.wav', 'jazz.00004.wav', 'jazz.00005.wav', 'jazz.00006.wav', 'jazz.00007.wav', 'jazz.00008.wav', 'jazz.00009.wav', 'jazz.00010.wav', 'jazz.00011.wav', 'jazz.00012.wav', 'jazz.00013.wav', 'jazz.00014.wav', 'jazz.00015.wav', 'jazz.00016.wav', 'jazz.00017.wav', 'jazz.00018.wav', 'jazz.00019.wav', 'jazz.00020.wav', 'jazz.00021.wav', 'jazz.00022.wav', 'jazz.00023.wav', 'jazz.00024.wav', 'jazz.00025.wav', 'jazz.00026.wav', 'jazz.00027.wav', 'jazz.00028.wav', 'jazz.00029.wav', 'jazz.00030.wav', 'jazz.00031.wav', 'jazz.00032.wav', 'jazz.00033.wav', 'jazz.00034.wav', 'jazz.00035.wav', 'jazz.00036.wav', 'jazz.00037.wav', 'jazz.00038.wav', 'jazz.00039.wav', 'jazz.00040.wav', 'jazz.00041.wav', 'jazz.00042.wav', 'jazz.00043.wav', 'jazz.00044.wav', 'jazz.00045.wav', 'jazz.00046.wav', 'jazz.00047.wav', 'jazz.00048.wav', 'jazz.00049.wav', 'jazz.00050.wav', 'jazz.00051.wav', 'jazz.00052.wav', 'jazz.00053.wav', 'jazz.00054.wav', 'jazz.00055.wav', 'jazz.00056.wav', 'jazz.00057.wav', 'jazz.00058.wav', 'jazz.00059.wav', 'jazz.00060.wav', 'jazz.00061.wav', 'jazz.00062.wav', 'jazz.00063.wav', 'jazz.00064.wav', 'jazz.00065.wav', 'jazz.00066.wav', 'jazz.00067.wav', 'jazz.00068.wav', 'jazz.00069.wav', 'jazz.00070.wav', 'jazz.00071.wav', 'jazz.00072.wav', 'jazz.00073.wav', 'jazz.00074.wav', 'jazz.00075.wav', 'jazz.00076.wav', 'jazz.00077.wav', 'jazz.00078.wav', 'jazz.00079.wav', 'jazz.00080.wav', 'jazz.00081.wav', 'jazz.00082.wav', 'jazz.00083.wav', 'jazz.00084.wav', 'jazz.00085.wav', 'jazz.00086.wav', 'jazz.00087.wav', 'jazz.00088.wav', 'jazz.00089.wav', 'jazz.00090.wav', 'jazz.00091.wav', 'jazz.00092.wav', 'jazz.00093.wav', 'jazz.00094.wav', 'jazz.00095.wav', 'jazz.00096.wav', 'jazz.00097.wav', 'jazz.00098.wav', 'jazz.00099.wav']\n",
      "\n",
      "Dirpath: genres\\metal\n",
      "Dirname: []\n",
      "Filenames: ['metal.00000.wav', 'metal.00001.wav', 'metal.00002.wav', 'metal.00003.wav', 'metal.00004.wav', 'metal.00005.wav', 'metal.00006.wav', 'metal.00007.wav', 'metal.00008.wav', 'metal.00009.wav', 'metal.00010.wav', 'metal.00011.wav', 'metal.00012.wav', 'metal.00013.wav', 'metal.00014.wav', 'metal.00015.wav', 'metal.00016.wav', 'metal.00017.wav', 'metal.00018.wav', 'metal.00019.wav', 'metal.00020.wav', 'metal.00021.wav', 'metal.00022.wav', 'metal.00023.wav', 'metal.00024.wav', 'metal.00025.wav', 'metal.00026.wav', 'metal.00027.wav', 'metal.00028.wav', 'metal.00029.wav', 'metal.00030.wav', 'metal.00031.wav', 'metal.00032.wav', 'metal.00033.wav', 'metal.00034.wav', 'metal.00035.wav', 'metal.00036.wav', 'metal.00037.wav', 'metal.00038.wav', 'metal.00039.wav', 'metal.00040.wav', 'metal.00041.wav', 'metal.00042.wav', 'metal.00043.wav', 'metal.00044.wav', 'metal.00045.wav', 'metal.00046.wav', 'metal.00047.wav', 'metal.00048.wav', 'metal.00049.wav', 'metal.00050.wav', 'metal.00051.wav', 'metal.00052.wav', 'metal.00053.wav', 'metal.00054.wav', 'metal.00055.wav', 'metal.00056.wav', 'metal.00057.wav', 'metal.00058.wav', 'metal.00059.wav', 'metal.00060.wav', 'metal.00061.wav', 'metal.00062.wav', 'metal.00063.wav', 'metal.00064.wav', 'metal.00065.wav', 'metal.00066.wav', 'metal.00067.wav', 'metal.00068.wav', 'metal.00069.wav', 'metal.00070.wav', 'metal.00071.wav', 'metal.00072.wav', 'metal.00073.wav', 'metal.00074.wav', 'metal.00075.wav', 'metal.00076.wav', 'metal.00077.wav', 'metal.00078.wav', 'metal.00079.wav', 'metal.00080.wav', 'metal.00081.wav', 'metal.00082.wav', 'metal.00083.wav', 'metal.00084.wav', 'metal.00085.wav', 'metal.00086.wav', 'metal.00087.wav', 'metal.00088.wav', 'metal.00089.wav', 'metal.00090.wav', 'metal.00091.wav', 'metal.00092.wav', 'metal.00093.wav', 'metal.00094.wav', 'metal.00095.wav', 'metal.00096.wav', 'metal.00097.wav', 'metal.00098.wav', 'metal.00099.wav']\n",
      "\n",
      "Dirpath: genres\\pop\n",
      "Dirname: []\n",
      "Filenames: ['pop.00000.wav', 'pop.00001.wav', 'pop.00002.wav', 'pop.00003.wav', 'pop.00004.wav', 'pop.00005.wav', 'pop.00006.wav', 'pop.00007.wav', 'pop.00008.wav', 'pop.00009.wav', 'pop.00010.wav', 'pop.00011.wav', 'pop.00012.wav', 'pop.00013.wav', 'pop.00014.wav', 'pop.00015.wav', 'pop.00016.wav', 'pop.00017.wav', 'pop.00018.wav', 'pop.00019.wav', 'pop.00020.wav', 'pop.00021.wav', 'pop.00022.wav', 'pop.00023.wav', 'pop.00024.wav', 'pop.00025.wav', 'pop.00026.wav', 'pop.00027.wav', 'pop.00028.wav', 'pop.00029.wav', 'pop.00030.wav', 'pop.00031.wav', 'pop.00032.wav', 'pop.00033.wav', 'pop.00034.wav', 'pop.00035.wav', 'pop.00036.wav', 'pop.00037.wav', 'pop.00038.wav', 'pop.00039.wav', 'pop.00040.wav', 'pop.00041.wav', 'pop.00042.wav', 'pop.00043.wav', 'pop.00044.wav', 'pop.00045.wav', 'pop.00046.wav', 'pop.00047.wav', 'pop.00048.wav', 'pop.00049.wav', 'pop.00050.wav', 'pop.00051.wav', 'pop.00052.wav', 'pop.00053.wav', 'pop.00054.wav', 'pop.00055.wav', 'pop.00056.wav', 'pop.00057.wav', 'pop.00058.wav', 'pop.00059.wav', 'pop.00060.wav', 'pop.00061.wav', 'pop.00062.wav', 'pop.00063.wav', 'pop.00064.wav', 'pop.00065.wav', 'pop.00066.wav', 'pop.00067.wav', 'pop.00068.wav', 'pop.00069.wav', 'pop.00070.wav', 'pop.00071.wav', 'pop.00072.wav', 'pop.00073.wav', 'pop.00074.wav', 'pop.00075.wav', 'pop.00076.wav', 'pop.00077.wav', 'pop.00078.wav', 'pop.00079.wav', 'pop.00080.wav', 'pop.00081.wav', 'pop.00082.wav', 'pop.00083.wav', 'pop.00084.wav', 'pop.00085.wav', 'pop.00086.wav', 'pop.00087.wav', 'pop.00088.wav', 'pop.00089.wav', 'pop.00090.wav', 'pop.00091.wav', 'pop.00092.wav', 'pop.00093.wav', 'pop.00094.wav', 'pop.00095.wav', 'pop.00096.wav', 'pop.00097.wav', 'pop.00098.wav', 'pop.00099.wav']\n",
      "\n",
      "Dirpath: genres\\reggae\n",
      "Dirname: []\n",
      "Filenames: ['reggae.00000.wav', 'reggae.00001.wav', 'reggae.00002.wav', 'reggae.00003.wav', 'reggae.00004.wav', 'reggae.00005.wav', 'reggae.00006.wav', 'reggae.00007.wav', 'reggae.00008.wav', 'reggae.00009.wav', 'reggae.00010.wav', 'reggae.00011.wav', 'reggae.00012.wav', 'reggae.00013.wav', 'reggae.00014.wav', 'reggae.00015.wav', 'reggae.00016.wav', 'reggae.00017.wav', 'reggae.00018.wav', 'reggae.00019.wav', 'reggae.00020.wav', 'reggae.00021.wav', 'reggae.00022.wav', 'reggae.00023.wav', 'reggae.00024.wav', 'reggae.00025.wav', 'reggae.00026.wav', 'reggae.00027.wav', 'reggae.00028.wav', 'reggae.00029.wav', 'reggae.00030.wav', 'reggae.00031.wav', 'reggae.00032.wav', 'reggae.00033.wav', 'reggae.00034.wav', 'reggae.00035.wav', 'reggae.00036.wav', 'reggae.00037.wav', 'reggae.00038.wav', 'reggae.00039.wav', 'reggae.00040.wav', 'reggae.00041.wav', 'reggae.00042.wav', 'reggae.00043.wav', 'reggae.00044.wav', 'reggae.00045.wav', 'reggae.00046.wav', 'reggae.00047.wav', 'reggae.00048.wav', 'reggae.00049.wav', 'reggae.00050.wav', 'reggae.00051.wav', 'reggae.00052.wav', 'reggae.00053.wav', 'reggae.00054.wav', 'reggae.00055.wav', 'reggae.00056.wav', 'reggae.00057.wav', 'reggae.00058.wav', 'reggae.00059.wav', 'reggae.00060.wav', 'reggae.00061.wav', 'reggae.00062.wav', 'reggae.00063.wav', 'reggae.00064.wav', 'reggae.00065.wav', 'reggae.00066.wav', 'reggae.00067.wav', 'reggae.00068.wav', 'reggae.00069.wav', 'reggae.00070.wav', 'reggae.00071.wav', 'reggae.00072.wav', 'reggae.00073.wav', 'reggae.00074.wav', 'reggae.00075.wav', 'reggae.00076.wav', 'reggae.00077.wav', 'reggae.00078.wav', 'reggae.00079.wav', 'reggae.00080.wav', 'reggae.00081.wav', 'reggae.00082.wav', 'reggae.00083.wav', 'reggae.00084.wav', 'reggae.00085.wav', 'reggae.00086.wav', 'reggae.00087.wav', 'reggae.00088.wav', 'reggae.00089.wav', 'reggae.00090.wav', 'reggae.00091.wav', 'reggae.00092.wav', 'reggae.00093.wav', 'reggae.00094.wav', 'reggae.00095.wav', 'reggae.00096.wav', 'reggae.00097.wav', 'reggae.00098.wav', 'reggae.00099.wav']\n",
      "\n",
      "Dirpath: genres\\rock\n",
      "Dirname: []\n",
      "Filenames: ['rock.00000.wav', 'rock.00001.wav', 'rock.00002.wav', 'rock.00003.wav', 'rock.00004.wav', 'rock.00005.wav', 'rock.00006.wav', 'rock.00007.wav', 'rock.00008.wav', 'rock.00009.wav', 'rock.00010.wav', 'rock.00011.wav', 'rock.00012.wav', 'rock.00013.wav', 'rock.00014.wav', 'rock.00015.wav', 'rock.00016.wav', 'rock.00017.wav', 'rock.00018.wav', 'rock.00019.wav', 'rock.00020.wav', 'rock.00021.wav', 'rock.00022.wav', 'rock.00023.wav', 'rock.00024.wav', 'rock.00025.wav', 'rock.00026.wav', 'rock.00027.wav', 'rock.00028.wav', 'rock.00029.wav', 'rock.00030.wav', 'rock.00031.wav', 'rock.00032.wav', 'rock.00033.wav', 'rock.00034.wav', 'rock.00035.wav', 'rock.00036.wav', 'rock.00037.wav', 'rock.00038.wav', 'rock.00039.wav', 'rock.00040.wav', 'rock.00041.wav', 'rock.00042.wav', 'rock.00043.wav', 'rock.00044.wav', 'rock.00045.wav', 'rock.00046.wav', 'rock.00047.wav', 'rock.00048.wav', 'rock.00049.wav', 'rock.00050.wav', 'rock.00051.wav', 'rock.00052.wav', 'rock.00053.wav', 'rock.00054.wav', 'rock.00055.wav', 'rock.00056.wav', 'rock.00057.wav', 'rock.00058.wav', 'rock.00059.wav', 'rock.00060.wav', 'rock.00061.wav', 'rock.00062.wav', 'rock.00063.wav', 'rock.00064.wav', 'rock.00065.wav', 'rock.00066.wav', 'rock.00067.wav', 'rock.00068.wav', 'rock.00069.wav', 'rock.00070.wav', 'rock.00071.wav', 'rock.00072.wav', 'rock.00073.wav', 'rock.00074.wav', 'rock.00075.wav', 'rock.00076.wav', 'rock.00077.wav', 'rock.00078.wav', 'rock.00079.wav', 'rock.00080.wav', 'rock.00081.wav', 'rock.00082.wav', 'rock.00083.wav', 'rock.00084.wav', 'rock.00085.wav', 'rock.00086.wav', 'rock.00087.wav', 'rock.00088.wav', 'rock.00089.wav', 'rock.00090.wav', 'rock.00091.wav', 'rock.00092.wav', 'rock.00093.wav', 'rock.00094.wav', 'rock.00095.wav', 'rock.00096.wav', 'rock.00097.wav', 'rock.00098.wav', 'rock.00099.wav']\n",
      "\n"
     ]
    }
   ],
   "source": [
    "# Set the seed value for experiment reproducibility.\n",
    "seed = 42\n",
    "tf.random.set_seed(seed)\n",
    "np.random.seed(seed)\n",
    "DATASET_PATH = \"genres\"\n",
    "print(list(os.walk(DATASET_PATH)))\n",
    "path_list = list(os.walk(DATASET_PATH))\n",
    "path_list.remove(path_list[0])\n",
    "# path_list.remove(path_list[9])\n",
    "for (dirpath, dirnames, filenames) in path_list:\n",
    "  print(f\"Dirpath: {dirpath}\")\n",
    "  print(f\"Dirname: {dirnames}\")\n",
    "  print(f\"Filenames: {filenames}\")\n",
    "  print()"
   ]
  },
  {
   "cell_type": "code",
   "execution_count": 18,
   "metadata": {},
   "outputs": [],
   "source": [
    "\n",
    "DATASET_PATH = \"genres\"\n",
    "JSON_PATH = \"data.json\"\n",
    "SAMPLE_RATE = 22050\n",
    "TRACK_DURATION = 30 # measured in seconds\n",
    "SAMPLES_PER_TRACK = SAMPLE_RATE * TRACK_DURATION\n",
    "\n",
    "\n",
    "def save_mfcc(dataset_path, json_path, num_mfcc=13, n_fft=2048, hop_length=512, num_segments=5):\n",
    "    \"\"\"Extracts MFCCs from music dataset and saves them into a json file along witgh genre labels.\n",
    "        :param dataset_path (str): Path to dataset\n",
    "        :param json_path (str): Path to json file used to save MFCCs\n",
    "        :param num_mfcc (int): Number of coefficients to extract\n",
    "        :param n_fft (int): Interval we consider to apply FFT. Measured in # of samples\n",
    "        :param hop_length (int): Sliding window for FFT. Measured in # of samples\n",
    "        :param: num_segments (int): Number of segments we want to divide sample tracks into\n",
    "        :return:\n",
    "        \"\"\"\n",
    "\n",
    "    # dictionary to store mapping, labels, and MFCCs\n",
    "    data = {\n",
    "        \"mapping\": [],\n",
    "        \"labels\": [],\n",
    "        \"mfcc\": []\n",
    "    }\n",
    "\n",
    "    samples_per_segment = int(SAMPLES_PER_TRACK / num_segments)\n",
    "    num_mfcc_vectors_per_segment = math.ceil(samples_per_segment / hop_length)\n",
    "\n",
    "    # loop through all genre sub-folder\n",
    "    for i, (dirpath, dirnames, filenames) in enumerate(path_list):\n",
    "\n",
    "        # ensure we're processing a genre sub-folder level\n",
    "        if dirpath is not dataset_path:\n",
    "\n",
    "            # save genre label (i.e., sub-folder name) in the mapping\n",
    "            semantic_label = dirpath.split(\"/\")[-1]\n",
    "            data[\"mapping\"].append(semantic_label)\n",
    "            print(\"\\nProcessing: {}\".format(semantic_label))\n",
    "\n",
    "            # process all audio files in genre sub-dir\n",
    "            for f in filenames:\n",
    "\n",
    "\t\t# load audio file\n",
    "                file_path = os.path.join(dirpath, f)\n",
    "                signal, sample_rate = librosa.load(file_path, sr=SAMPLE_RATE)\n",
    "                RMS=math.sqrt(np.mean(signal**2))\n",
    "                noise=np.random.normal(0, RMS, signal.shape[0])\n",
    "                signal = signal+noise\n",
    "\n",
    "\n",
    "                # process all segments of audio file\n",
    "                for d in range(num_segments):\n",
    "\n",
    "                    # calculate start and finish sample for current segment\n",
    "                    start = samples_per_segment * d\n",
    "                    finish = start + samples_per_segment\n",
    "                    # extract mfcc\n",
    "                    print(f\"Signal before: {signal[start:finish]}\")\n",
    "                    mfcc = librosa.feature.mfcc(signal[start:finish], sr=sample_rate, n_mfcc=num_mfcc, n_fft=n_fft, hop_length=hop_length)\n",
    "                    print(f\"MFCC after: {mfcc}\")\n",
    "                    print(f\"MFCC shape: {mfcc.shape}\")\n",
    "                    mfcc = mfcc.T\n",
    "\n",
    "                    # store only mfcc feature with expected number of vectors\n",
    "                    if len(mfcc) == num_mfcc_vectors_per_segment:\n",
    "                        data[\"mfcc\"].append(mfcc.tolist())\n",
    "                        data[\"labels\"].append(i)\n",
    "                        print(\"{}, segment:{}\".format(file_path, d+1))\n",
    "\n",
    "    # save MFCCs to json file\n",
    "    with open(json_path, \"w\") as fp:\n",
    "        json.dump(data, fp, indent=4)\n",
    "        "
   ]
  },
  {
   "cell_type": "code",
   "execution_count": null,
   "metadata": {},
   "outputs": [],
   "source": [
    "save_mfcc(DATASET_PATH,JSON_PATH,num_segments=5)"
   ]
  },
  {
   "cell_type": "code",
   "execution_count": 17,
   "metadata": {},
   "outputs": [],
   "source": [
    "def load_data(data_path):\n",
    "    \"\"\"Loads training dataset from json file.\n",
    "        :param data_path (str): Path to json file containing data\n",
    "        :return X (ndarray): Inputs\n",
    "        :return y (ndarray): Targets\n",
    "    \"\"\"\n",
    "\n",
    "    with open(data_path, \"r\") as fp:\n",
    "        data = json.load(fp)\n",
    "\n",
    "    # convert lists to numpy arrays\n",
    "    X = np.array(data[\"mfcc\"])\n",
    "    y = np.array(data[\"labels\"])\n",
    "\n",
    "    print(\"Data succesfully loaded!\")\n",
    "\n",
    "    return  X, y"
   ]
  },
  {
   "cell_type": "code",
   "execution_count": 10,
   "metadata": {},
   "outputs": [],
   "source": [
    "DATA_PATH = \"data.json\"\n",
    "\n",
    "def prepare_datasets(test_size, validation_size):\n",
    "    \"\"\"Loads data and splits it into train, validation and test sets.\n",
    "    :param test_size (float): Value in [0, 1] indicating percentage of data set to allocate to test split\n",
    "    :param validation_size (float): Value in [0, 1] indicating percentage of train set to allocate to validation split\n",
    "    :return X_train (ndarray): Input training set\n",
    "    :return X_validation (ndarray): Input validation set\n",
    "    :return X_test (ndarray): Input test set\n",
    "    :return y_train (ndarray): Target training set\n",
    "    :return y_validation (ndarray): Target validation set\n",
    "    :return y_test (ndarray): Target test set\n",
    "    \"\"\"\n",
    "\n",
    "    # load data\n",
    "    X, y = load_data(DATA_PATH)\n",
    "\n",
    "    # create train, validation and test split\n",
    "    X_train, X_test, y_train, y_test = train_test_split(X, y, test_size=test_size)\n",
    "    X_train, X_validation, y_train, y_validation = train_test_split(X_train, y_train, test_size=validation_size)\n",
    "\n",
    "    # add an axis to input sets\n",
    "    X_train = X_train[..., np.newaxis]\n",
    "    X_validation = X_validation[..., np.newaxis]\n",
    "    X_test = X_test[..., np.newaxis]\n",
    "\n",
    "    return X_train, X_validation, X_test, y_train, y_validation, y_test"
   ]
  },
  {
   "cell_type": "code",
   "execution_count": null,
   "metadata": {},
   "outputs": [],
   "source": [
    "X_train, X_validation, X_test, y_train, y_validation, y_test = prepare_datasets(0.25, 0.2)"
   ]
  },
  {
   "cell_type": "code",
   "execution_count": null,
   "metadata": {},
   "outputs": [],
   "source": [
    "X.shape"
   ]
  },
  {
   "cell_type": "code",
   "execution_count": null,
   "metadata": {},
   "outputs": [],
   "source": [
    "np.count_nonzero(targets==10)"
   ]
  },
  {
   "cell_type": "code",
   "execution_count": null,
   "metadata": {},
   "outputs": [],
   "source": [
    "model = keras.Sequential([\n",
    "    keras.layers.Flatten(input_shape=(inputs.shape[1],inputs.shape[2])),\n",
    "    keras.layers.Dense(512,activation=\"relu\", kernel_regularizer=keras.regularizers.l2(0.001)),\n",
    "     keras.layers.Dropout(0.3),\n",
    "    keras.layers.Dense(256,activation=\"relu\",kernel_regularizer=keras.regularizers.l2(0.001)),\n",
    "     keras.layers.Dropout(0.3),\n",
    "    keras.layers.Dense(64,activation=\"relu\", kernel_regularizer=keras.regularizers.l2(0.001)), \n",
    "     keras.layers.Dropout(0.3),   \n",
    "    keras.layers.Dense(10,activation=\"softmax\", kernel_regularizer=keras.regularizers.l2(0.001))\n",
    "\n",
    "])"
   ]
  },
  {
   "cell_type": "code",
   "execution_count": null,
   "metadata": {},
   "outputs": [],
   "source": [
    "input_shape = (X_train.shape[1], X_train.shape[2], 1)\n",
    "model = keras.Sequential([\n",
    " keras.layers.Conv2D(32, (3, 3), activation='relu', input_shape=input_shape),\n",
    " keras.layers.MaxPooling2D((3, 3), strides=(2, 2), padding='same'),\n",
    " keras.layers.BatchNormalization(),\n",
    "\n",
    "    # 2nd conv layer\n",
    " keras.layers.Conv2D(32, (3, 3), activation='relu'),\n",
    " keras.layers.MaxPooling2D((3, 3), strides=(2, 2), padding='same'),\n",
    " keras.layers.BatchNormalization(),\n",
    "\n",
    "    # 3rd conv layer\n",
    " keras.layers.Conv2D(32, (2, 2), activation='relu'),\n",
    " keras.layers.MaxPooling2D((2, 2), strides=(2, 2), padding='same'),\n",
    " keras.layers.BatchNormalization(),\n",
    "\n",
    "    # flatten output and feed it into dense layer\n",
    " keras.layers.Flatten(),\n",
    " keras.layers.Dense(64, activation='relu'),\n",
    " keras.layers.Dropout(0.3),\n",
    "\n",
    "    # output layer\n",
    " keras.layers.Dense(10, activation='softmax')\n",
    " ])"
   ]
  },
  {
   "cell_type": "code",
   "execution_count": null,
   "metadata": {},
   "outputs": [],
   "source": [
    "optimizer = keras.optimizers.Adam(learning_rate=0.0001)\n",
    "model.compile(optimizer=optimizer, loss=tf.keras.losses.SparseCategoricalCrossentropy(), metrics=[\"accuracy\"])"
   ]
  },
  {
   "cell_type": "code",
   "execution_count": null,
   "metadata": {},
   "outputs": [],
   "source": [
    "model.summary() "
   ]
  },
  {
   "cell_type": "code",
   "execution_count": null,
   "metadata": {},
   "outputs": [],
   "source": [
    "history = model.fit(X_train, y_train, validation_data=(X_validation, y_validation), batch_size=32, epochs=60)"
   ]
  },
  {
   "cell_type": "code",
   "execution_count": null,
   "metadata": {},
   "outputs": [],
   "source": [
    "def plot_history(history):\n",
    "    \"\"\"Plots accuracy/loss for training/validation set as a function of the epochs\n",
    "        :param history: Training history of model\n",
    "        :return:\n",
    "    \"\"\"\n",
    "\n",
    "    fig, axs = plt.subplots(2)\n",
    "\n",
    "    # create accuracy sublpot\n",
    "    axs[0].plot(history.history[\"accuracy\"], label=\"train accuracy\")\n",
    "    axs[0].plot(history.history[\"val_accuracy\"], label=\"test accuracy\")\n",
    "    axs[0].set_ylabel(\"Accuracy\")\n",
    "    axs[0].legend(loc=\"lower right\")\n",
    "    axs[0].set_title(\"Accuracy eval\")\n",
    "\n",
    "    # create error sublpot\n",
    "    axs[1].plot(history.history[\"loss\"], label=\"train error\")\n",
    "    axs[1].plot(history.history[\"val_loss\"], label=\"test error\")\n",
    "    axs[1].set_ylabel(\"Error\")\n",
    "    axs[1].set_xlabel(\"Epoch\")\n",
    "    axs[1].legend(loc=\"upper right\")\n",
    "    axs[1].set_title(\"Error eval\")\n",
    "\n",
    "    plt.show()"
   ]
  },
  {
   "cell_type": "code",
   "execution_count": null,
   "metadata": {},
   "outputs": [],
   "source": [
    "model.save(\"/content/music_genre_classification_model.h5\")\n",
    "new_model = keras.models.load_model('/content/music_genre_classification_model.h5')\n",
    "\n",
    "# Check its architecture\n",
    "new_model.summary()"
   ]
  },
  {
   "cell_type": "code",
   "execution_count": null,
   "metadata": {},
   "outputs": [],
   "source": [
    "plot_history(history)"
   ]
  },
  {
   "cell_type": "code",
   "execution_count": null,
   "metadata": {},
   "outputs": [],
   "source": [
    "X.shape"
   ]
  },
  {
   "cell_type": "code",
   "execution_count": null,
   "metadata": {},
   "outputs": [],
   "source": [
    "    # pick a sample to predict from the test set\n",
    "X_to_predict = X_test[100]\n",
    "y_to_predict = y_test[100]\n",
    "\n",
    "X_test.shape\n",
    "    # predict sample\n",
    "X_to_predict = X_to_predict[np.newaxis,...]\n",
    "prediction = model.predict(X_to_predict)"
   ]
  },
  {
   "cell_type": "code",
   "execution_count": null,
   "metadata": {},
   "outputs": [],
   "source": [
    "X_test.shape"
   ]
  },
  {
   "cell_type": "code",
   "execution_count": null,
   "metadata": {},
   "outputs": [],
   "source": [
    "X_test[100].shape"
   ]
  },
  {
   "cell_type": "code",
   "execution_count": null,
   "metadata": {},
   "outputs": [],
   "source": [
    "predicted_index = np.argmax(prediction)\n",
    "predicted_index"
   ]
  },
  {
   "cell_type": "code",
   "execution_count": null,
   "metadata": {},
   "outputs": [],
   "source": [
    "y_to_predict"
   ]
  }
 ],
 "metadata": {
  "kernelspec": {
   "display_name": "base",
   "language": "python",
   "name": "python3"
  },
  "language_info": {
   "codemirror_mode": {
    "name": "ipython",
    "version": 3
   },
   "file_extension": ".py",
   "mimetype": "text/x-python",
   "name": "python",
   "nbconvert_exporter": "python",
   "pygments_lexer": "ipython3",
   "version": "3.10.11"
  },
  "orig_nbformat": 4
 },
 "nbformat": 4,
 "nbformat_minor": 2
}
